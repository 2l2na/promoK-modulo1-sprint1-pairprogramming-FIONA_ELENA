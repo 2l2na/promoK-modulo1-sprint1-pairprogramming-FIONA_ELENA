{
 "cells": [
  {
   "cell_type": "markdown",
   "metadata": {},
   "source": [
    "Variables de programación en pares\n",
    "\n",
    "Crea tres variables numéricas de tipo entero (entero), llamadas de la siguiente forma:\n",
    "\n",
    "numero1\n",
    "\n",
    "numero2\n",
    "\n",
    "numero3"
   ]
  },
  {
   "cell_type": "code",
   "execution_count": 3,
   "metadata": {},
   "outputs": [],
   "source": [
    "#creamos las variables\n",
    "numero1 = int(4)\n",
    "numero2 = int(7)\n",
    "numero3 = int(10)"
   ]
  },
  {
   "cell_type": "markdown",
   "metadata": {},
   "source": [
    "Utilizando los operadores lógicos:\n",
    "\n",
    "En tu caso, es el numero1 mayor que el numero2\n",
    "\n",
    "Es el numero1 menor que el numero2 pero mayor que el numero3\n",
    "\n",
    "Es el numero3 igual que el numero2\n",
    "\n",
    "Es el numero2 distinto que el numero1"
   ]
  },
  {
   "cell_type": "code",
   "execution_count": 4,
   "metadata": {},
   "outputs": [
    {
     "name": "stdout",
     "output_type": "stream",
     "text": [
      "False\n",
      "False\n",
      "False\n"
     ]
    }
   ],
   "source": [
    "print(numero1 > numero2)\n",
    "print(numero1 < numero2 and numero1 > numero3)\n",
    "print(numero3  == numero2)"
   ]
  },
  {
   "cell_type": "markdown",
   "metadata": {},
   "source": [
    "Crea dos variables numéricas de tipo float (decimal) con dos decimales, llamadas de la siguiente forma:\n",
    "\n",
    "altura1\n",
    "\n",
    "altura2\n",
    "\n",
    "Utilizando los operadores matemáticos aprendidos en la lección:\n",
    "\n",
    "¿Cuál es la suma de las dos alturas?\n",
    "\n",
    "¿Cuál es la diferencia entre las alturas?\n",
    "\n",
    "¿Cuál es el resto de la división de las dos alturas?\n",
    "\n",
    "Cuál es el resultado de la división de las dos alturas, redondeado el resultado a un decimal."
   ]
  },
  {
   "cell_type": "code",
   "execution_count": null,
   "metadata": {},
   "outputs": [],
   "source": []
  },
  {
   "cell_type": "markdown",
   "metadata": {},
   "source": [
    "Escribid un programa usando la función input()que le pregunta al usuario su nombre y apellidos. Una vez que tengamos el nombre del usuario:\n",
    "\n",
    "Imprima su nombre y apellidos todo en mayúsculas\n",
    "\n",
    "Imprima su nombre y apellidos todo en minúsculas\n",
    "\n",
    "Printead su nombre y apellidos con la primera letra del nombre y los apellidos en mayúscula y el resto en minúscula.\n",
    "\n",
    "Printeas solo la primera letra del nombre en mayúscula."
   ]
  },
  {
   "cell_type": "code",
   "execution_count": null,
   "metadata": {},
   "outputs": [],
   "source": []
  },
  {
   "cell_type": "markdown",
   "metadata": {},
   "source": [
    "Escribid un programa usando la función input()que:\n",
    "\n",
    "Le pregunte al usuario por una frase, almacenad este resultado en una variable.\n",
    "\n",
    "Le pregunte al usuario por una voz, almacenad este resultado en una variable.\n",
    "\n",
    "Printead la misma frase pero con la vocal introducida en mayúsulas."
   ]
  },
  {
   "cell_type": "code",
   "execution_count": null,
   "metadata": {},
   "outputs": [],
   "source": []
  },
  {
   "cell_type": "markdown",
   "metadata": {},
   "source": [
    "Escribid un programa usando la función input()que:\n",
    "\n",
    "Le pregunte al usuario por la lista de la compra, separando cada elemento por comas.\n",
    "\n",
    "Devolved la lista de compra donde veamos cada elemento en una línea.\n",
    "\n",
    "💡 Pista\n",
    "\n",
    "Para indicar salto de línea usaremos \"\\n\".\n",
    "\n",
    "Deberán usar el método joinde las cadenas.\n",
    "\n",
    "📌 Salida deseada\n",
    "\n",
    "Copiar\n",
    "resultado_del_input = [\"peras\", \"manzanas\", \"naranjas\"]\n",
    "\n",
    "# output después del ejercicio\n",
    "\"peras\"\n",
    "\"manzanas\"\n",
    "\"naranjas\""
   ]
  },
  {
   "cell_type": "code",
   "execution_count": null,
   "metadata": {},
   "outputs": [],
   "source": []
  }
 ],
 "metadata": {
  "kernelspec": {
   "display_name": "Python 3",
   "language": "python",
   "name": "python3"
  },
  "language_info": {
   "codemirror_mode": {
    "name": "ipython",
    "version": 3
   },
   "file_extension": ".py",
   "mimetype": "text/x-python",
   "name": "python",
   "nbconvert_exporter": "python",
   "pygments_lexer": "ipython3",
   "version": "3.12.4"
  }
 },
 "nbformat": 4,
 "nbformat_minor": 2
}
